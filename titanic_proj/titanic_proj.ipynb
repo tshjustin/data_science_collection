{
 "cells": [
  {
   "cell_type": "markdown",
   "metadata": {},
   "source": [
    "### Walkthrough Project for Titanic Topic \n",
    "\n",
    "The goal of the walkthroughs is to gather intution on \"what\" to do when given a DS task. \n",
    "\n",
    "That is to know the steps, rather than asking GPT to perform. \n",
    "\n",
    "We learn by having these 2: \n",
    "\n",
    "1. What functions do i have to perform the predictions.\n",
    "\n",
    "2. What are the general Data Science questions / patterns to look out for. \n",
    "\n",
    "3. What is the more domain specific question / patterns that i have to look out for.\n",
    "\n",
    "\n",
    "#### Problem Statement\n",
    "\"What sorts of people are more likely to survive? Given their status etc\" "
   ]
  },
  {
   "cell_type": "markdown",
   "metadata": {},
   "source": [
    "#### Since its the first walkthrough, these are guide rails to understand what the functions are.\n",
    "\n",
    "-------------------------------------------------------------------------------------------------------\n",
    "\n",
    "Understand nature of the data .info() .describe()\n",
    "\n",
    "Histograms and boxplots \n",
    "\n",
    "Value counts \n",
    "\n",
    "Missing data \n",
    "\n",
    "Correlation between the metrics \n",
    "\n",
    "Explore interesting themes \n",
    "\n",
    "1. Wealthy survive? \n",
    "\n",
    "2. By location \n",
    "\n",
    "3.  Age scatterplot with ticket price \n",
    "\n",
    "4. Young and wealthy Variable? \n",
    "\n",
    "5. Total spent? \n",
    "\n",
    "Feature engineering \n",
    "\n",
    "preprocess data together or use a transformer? use label for train and test   \n",
    "\n",
    "Scaling?\n",
    "\n",
    "Model Baseline \n",
    "\n",
    "Model comparison with CV "
   ]
  },
  {
   "cell_type": "code",
   "execution_count": null,
   "metadata": {},
   "outputs": [],
   "source": []
  }
 ],
 "metadata": {
  "kernelspec": {
   "display_name": "venv",
   "language": "python",
   "name": "python3"
  },
  "language_info": {
   "name": "python",
   "version": "3.10.1"
  }
 },
 "nbformat": 4,
 "nbformat_minor": 2
}

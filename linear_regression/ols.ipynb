{
 "cells": [
  {
   "cell_type": "markdown",
   "id": "b0491a37",
   "metadata": {},
   "source": [
    "## Linear Regression \n",
    "\n",
    "Supervised learning method that aims to find some best fit line given some features\n",
    "\n",
    "y = β0 + β1x1 + β2x2 +...+ βpxp +ϵ\n",
    "\n",
    "\n",
    "\n",
    "### Solving \n",
    "Can solve with either \n",
    "\n",
    "1. Gradient Descent \n",
    "\n",
    "2. Closed form solution\n",
    "\n",
    "\n",
    "### Loss Function and evalution \n",
    "1. Mean Squared Error --> Distance betwee point on line and the actual data point \n",
    "\n",
    "2. Goodness of Fit --> R^2 that measures the variance of y that is explained by the features "
   ]
  },
  {
   "cell_type": "markdown",
   "id": "66e654fb",
   "metadata": {},
   "source": []
  },
  {
   "cell_type": "markdown",
   "id": "e7ca0a1b",
   "metadata": {},
   "source": []
  }
 ],
 "metadata": {
  "kernelspec": {
   "display_name": "venv",
   "language": "python",
   "name": "python3"
  },
  "language_info": {
   "name": "python",
   "version": "3.10.1"
  }
 },
 "nbformat": 4,
 "nbformat_minor": 5
}
